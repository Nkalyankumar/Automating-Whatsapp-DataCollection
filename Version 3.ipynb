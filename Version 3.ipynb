{
 "cells": [
  {
   "cell_type": "markdown",
   "id": "04cc3a34",
   "metadata": {},
   "source": [
    "# Automation of  Data Collection from Whatsapp using Selenium"
   ]
  },
  {
   "cell_type": "code",
   "execution_count": 65,
   "id": "e2c3a7d5",
   "metadata": {},
   "outputs": [],
   "source": [
    "from time import sleep\n",
    "from selenium import webdriver\n",
    "from selenium.webdriver.common.by import By\n",
    "from bs4 import BeautifulSoup\n",
    "import re\n",
    "import csv"
   ]
  },
  {
   "cell_type": "markdown",
   "id": "405a458b",
   "metadata": {},
   "source": [
    "# Function1  ---- Responsible for intiating the ChromeDriver"
   ]
  },
  {
   "cell_type": "code",
   "execution_count": 66,
   "id": "9f91664d",
   "metadata": {},
   "outputs": [],
   "source": [
    "def initialize_driver():\n",
    "    try:\n",
    "        driver = webdriver.Chrome()\n",
    "        driver.get(\"https://web.whatsapp.com\")\n",
    "    except Exception as e:\n",
    "        print(\"Ensure That You Have a Internet Connection\")\n",
    "        return\n",
    "    else:\n",
    "        return driver"
   ]
  },
  {
   "cell_type": "markdown",
   "id": "4007a2de",
   "metadata": {},
   "source": [
    "# Function2 --- Responsible for making the user to scan QRCode and returns after the successful Scanning of QRCode"
   ]
  },
  {
   "cell_type": "code",
   "execution_count": 67,
   "id": "9115fbf7",
   "metadata": {},
   "outputs": [],
   "source": [
    "def QRcodeScanner(driver):\n",
    "    print(\"Please Scan the Whatsapp QRCode in new Automated Chrome Window\")\n",
    "    print(\"Please Press Enter after Successful Scanning of the code\")\n",
    "    input()\n",
    "    flag = 1\n",
    "    while(flag != 0):\n",
    "        try:\n",
    "            verification_element  = driver.find_element(By.ID,'initial_startup')\n",
    "        except Exception as e:\n",
    "            print(\"You Scanned the Code Succesfully\")\n",
    "            flag = 0\n",
    "        else:\n",
    "            print(\"Requested To Make Sure That You Scanned the Whatsapp QRCode\")\n",
    "            print(\"Please Press Enter after Successful Scanning of the code\")\n",
    "            input()\n",
    "    return driver"
   ]
  },
  {
   "cell_type": "markdown",
   "id": "b33a3053",
   "metadata": {},
   "source": [
    "# Function3 --- Returns the text message data of the specified user"
   ]
  },
  {
   "cell_type": "code",
   "execution_count": 59,
   "id": "0794b64e",
   "metadata": {},
   "outputs": [],
   "source": [
    "def get_message_data(driver,contact):\n",
    "    global SCROLL_TO, SCROLL_SIZE\n",
    "    SCROLL_SIZE = 800\n",
    "    SCROLL_TO = 0\n",
    "    count = 0\n",
    "    no_of_iterations = 20\n",
    "    while(count < no_of_iterations):\n",
    "    #     #Giving the contact specifically\n",
    "    #     contact = 'Suresh Room'\n",
    "        #Navigating through the specified Contact\n",
    "        try:\n",
    "            user = driver.find_element(By.XPATH,'//span[contains(@title, \"{}\")]'.format(contact))\n",
    "            user.click()\n",
    "        except Exception as e:\n",
    "            print(\"The Contact Not found\")\n",
    "            print(\"Please Wait Scrolling the side pane>>>>>\")\n",
    "        else:\n",
    "            print(\"The Contanct Found\")\n",
    "            break\n",
    "        print('The Iteration : '+ str(count))\n",
    "        count += 1\n",
    "        print('>>> scrolling side pane')\n",
    "        side_pane = driver.find_element(By.ID,'pane-side')\n",
    "        driver.execute_script('arguments[0].scrollTop = '+str(SCROLL_TO), side_pane)\n",
    "        sleep(3)\n",
    "        SCROLL_TO += SCROLL_SIZE\n",
    "        if(SCROLL_TO >=int(side_pane.get_attribute('scrollHeight'))):\n",
    "            break\n",
    "            \n",
    "            \n",
    "            \n",
    "    scroll = 300\n",
    "    prev_sum_scroll = 0\n",
    "    now_sum_scroll = 0\n",
    "    while(1):\n",
    "        conversation_pane = driver.find_element(By.XPATH,\"//div[@class='_5kRIK']\")\n",
    "        prev_sum_scroll = conversation_pane.get_attribute('scrollHeight')\n",
    "        driver.execute_script('arguments[0].scrollTop = -' + str(scroll), conversation_pane)\n",
    "        sleep(1)\n",
    "        now_sum_scroll =  conversation_pane.get_attribute('scrollHeight')\n",
    "        scroll = scroll + 500\n",
    "        if(prev_sum_scroll == now_sum_scroll):\n",
    "            break\n",
    "        print(prev_sum_scroll)\n",
    "        print(now_sum_scroll)\n",
    "        conversation_pane.get_attribute('scrollHeight')\n",
    "\n",
    "\n",
    "    #THIS CODE SASYS WHETHER THE MESSAGE IS SENT ONE OR RECEIVED ONE\n",
    "    html_content = driver.page_source\n",
    "    soup = BeautifulSoup(html_content,'html')\n",
    "    a = soup.find_all('div',attrs = {'role':'row'})\n",
    "\n",
    "    divs = []\n",
    "    for x in a:\n",
    "        temp =  x.find('div',attrs = {'class':'copyable-text'})\n",
    "        if(temp != None):\n",
    "            divs.append(temp)\n",
    "    whole_data = []\n",
    "    for div in divs:\n",
    "        key = div.get('data-pre-plain-text')\n",
    "        value = div.span.text\n",
    "        whole_data.append([key,value])\n",
    "\n",
    "    new_data = []\n",
    "    for x in whole_data:\n",
    "        # Extract timestamp, date, and name using regular expressions\n",
    "        match = re.match(r'\\[(.*?), (.*?)\\] (.*)', x[0])\n",
    "\n",
    "        if match:\n",
    "            timestamp = match.group(1)\n",
    "            date = match.group(2)\n",
    "            name = match.group(3)\n",
    "            result = [timestamp, date, name,x[1]]\n",
    "            new_data.append(result)\n",
    "        else:\n",
    "            continue\n",
    "\n",
    "    return new_data"
   ]
  },
  {
   "cell_type": "markdown",
   "id": "e57b734b",
   "metadata": {},
   "source": [
    "# Function4 -- Responsible for making the json data to csv(structured format)"
   ]
  },
  {
   "cell_type": "code",
   "execution_count": 68,
   "id": "031fd26d",
   "metadata": {},
   "outputs": [],
   "source": [
    "def prepare_csv_data(complete_data):\n",
    "    keys = list(complete_data.keys())\n",
    "    main_data = []\n",
    "    for key in keys:\n",
    "        for msg_data in complete_data[key]:\n",
    "            main_data.append([key,msg_data[0],msg_data[1],msg_data[2],msg_data[3]])\n",
    "    header = ['contanct_name','TimeStamp','Date','Sender','Message']\n",
    "    with open(\"raw_msg_data.csv\",\"w\",encoding = \"utf-8\",newline='') as f:\n",
    "        c_ob = csv.writer(f)\n",
    "        c_ob.writerow(header)\n",
    "        c_ob.writerows(main_data)\n",
    "    print(\"The Data is succesfully written in raw_msg_data.csv\")"
   ]
  },
  {
   "cell_type": "markdown",
   "id": "a84c502b",
   "metadata": {},
   "source": [
    "# Main Code"
   ]
  },
  {
   "cell_type": "code",
   "execution_count": 69,
   "id": "7d84566a",
   "metadata": {},
   "outputs": [],
   "source": [
    "driver = initialize_driver()\n"
   ]
  },
  {
   "cell_type": "code",
   "execution_count": 70,
   "id": "17e482f5",
   "metadata": {
    "scrolled": true
   },
   "outputs": [
    {
     "name": "stdout",
     "output_type": "stream",
     "text": [
      "Please Scan the Whatsapp QRCode in new Automated Chrome Window\n",
      "Please Press Enter after Successful Scanning of the code\n",
      "\n",
      "You Scanned the Code Succesfully\n"
     ]
    }
   ],
   "source": [
    "driver = QRcodeScanner(driver)"
   ]
  },
  {
   "cell_type": "code",
   "execution_count": 71,
   "id": "31bf35ad",
   "metadata": {
    "scrolled": false
   },
   "outputs": [
    {
     "name": "stdout",
     "output_type": "stream",
     "text": [
      "The Contact Not found\n",
      "Please Wait Scrolling the side pane>>>>>\n",
      "The Iteration : 0\n",
      ">>> scrolling side pane\n",
      "The Contact Not found\n",
      "Please Wait Scrolling the side pane>>>>>\n",
      "The Iteration : 1\n",
      ">>> scrolling side pane\n",
      "The Contact Not found\n",
      "Please Wait Scrolling the side pane>>>>>\n",
      "The Iteration : 2\n",
      ">>> scrolling side pane\n",
      "The Contact Not found\n",
      "Please Wait Scrolling the side pane>>>>>\n",
      "The Iteration : 3\n",
      ">>> scrolling side pane\n",
      "The Contact Not found\n",
      "Please Wait Scrolling the side pane>>>>>\n",
      "The Iteration : 4\n",
      ">>> scrolling side pane\n",
      "The Contanct Found\n",
      "The Contact Not found\n",
      "Please Wait Scrolling the side pane>>>>>\n",
      "The Iteration : 0\n",
      ">>> scrolling side pane\n",
      "The Contact Not found\n",
      "Please Wait Scrolling the side pane>>>>>\n",
      "The Iteration : 1\n",
      ">>> scrolling side pane\n",
      "The Contact Not found\n",
      "Please Wait Scrolling the side pane>>>>>\n",
      "The Iteration : 2\n",
      ">>> scrolling side pane\n",
      "The Contact Not found\n",
      "Please Wait Scrolling the side pane>>>>>\n",
      "The Iteration : 3\n",
      ">>> scrolling side pane\n",
      "The Contact Not found\n",
      "Please Wait Scrolling the side pane>>>>>\n",
      "The Iteration : 4\n",
      ">>> scrolling side pane\n",
      "The Contact Not found\n",
      "Please Wait Scrolling the side pane>>>>>\n",
      "The Iteration : 5\n",
      ">>> scrolling side pane\n",
      "The Contact Not found\n",
      "Please Wait Scrolling the side pane>>>>>\n",
      "The Iteration : 6\n",
      ">>> scrolling side pane\n",
      "The Contact Not found\n",
      "Please Wait Scrolling the side pane>>>>>\n",
      "The Iteration : 7\n",
      ">>> scrolling side pane\n",
      "The Contact Not found\n",
      "Please Wait Scrolling the side pane>>>>>\n",
      "The Iteration : 8\n",
      ">>> scrolling side pane\n",
      "The Contact Not found\n",
      "Please Wait Scrolling the side pane>>>>>\n",
      "The Iteration : 9\n",
      ">>> scrolling side pane\n",
      "The Contact Not found\n",
      "Please Wait Scrolling the side pane>>>>>\n",
      "The Iteration : 10\n",
      ">>> scrolling side pane\n",
      "The Contact Not found\n",
      "Please Wait Scrolling the side pane>>>>>\n",
      "The Iteration : 11\n",
      ">>> scrolling side pane\n",
      "The Contact Not found\n",
      "Please Wait Scrolling the side pane>>>>>\n",
      "The Iteration : 12\n",
      ">>> scrolling side pane\n",
      "The Contact Not found\n",
      "Please Wait Scrolling the side pane>>>>>\n",
      "The Iteration : 13\n",
      ">>> scrolling side pane\n",
      "The Contact Not found\n",
      "Please Wait Scrolling the side pane>>>>>\n",
      "The Iteration : 14\n",
      ">>> scrolling side pane\n",
      "The Contact Not found\n",
      "Please Wait Scrolling the side pane>>>>>\n",
      "The Iteration : 15\n",
      ">>> scrolling side pane\n",
      "The Contact Not found\n",
      "Please Wait Scrolling the side pane>>>>>\n",
      "The Iteration : 16\n",
      ">>> scrolling side pane\n",
      "The Contact Not found\n",
      "Please Wait Scrolling the side pane>>>>>\n",
      "The Iteration : 17\n",
      ">>> scrolling side pane\n",
      "The Contact Not found\n",
      "Please Wait Scrolling the side pane>>>>>\n",
      "The Iteration : 18\n",
      ">>> scrolling side pane\n",
      "The Contact Not found\n",
      "Please Wait Scrolling the side pane>>>>>\n",
      "The Iteration : 19\n",
      ">>> scrolling side pane\n",
      "2746\n",
      "4631\n",
      "4631\n",
      "5121\n",
      "5121\n",
      "5732\n",
      "5732\n",
      "6403\n",
      "6403\n",
      "7563\n",
      "7563\n",
      "8969\n",
      "8969\n",
      "10447\n",
      "10447\n",
      "11058\n",
      "11058\n",
      "11392\n",
      "The Contact Not found\n",
      "Please Wait Scrolling the side pane>>>>>\n",
      "The Iteration : 0\n",
      ">>> scrolling side pane\n",
      "The Contact Not found\n",
      "Please Wait Scrolling the side pane>>>>>\n",
      "The Iteration : 1\n",
      ">>> scrolling side pane\n",
      "The Contact Not found\n",
      "Please Wait Scrolling the side pane>>>>>\n",
      "The Iteration : 2\n",
      ">>> scrolling side pane\n",
      "The Contact Not found\n",
      "Please Wait Scrolling the side pane>>>>>\n",
      "The Iteration : 3\n",
      ">>> scrolling side pane\n",
      "The Contanct Found\n"
     ]
    }
   ],
   "source": [
    "#multiplecontancts\n",
    "complete_data = {}\n",
    "contact_list = ['metrics mahesh','Shyam sundar','Uday Room']\n",
    "for contact in contact_list:\n",
    "    data = get_message_data(driver,contact)\n",
    "    complete_data[contact] = data"
   ]
  },
  {
   "cell_type": "code",
   "execution_count": 72,
   "id": "01539030",
   "metadata": {},
   "outputs": [
    {
     "name": "stdout",
     "output_type": "stream",
     "text": [
      "The Data is succesfully written in raw_msg_data.csv\n"
     ]
    }
   ],
   "source": [
    "prepare_csv_data(complete_data)"
   ]
  },
  {
   "cell_type": "code",
   "execution_count": 73,
   "id": "542f2b2d",
   "metadata": {},
   "outputs": [],
   "source": [
    "driver.quit()"
   ]
  }
 ],
 "metadata": {
  "kernelspec": {
   "display_name": "Python 3 (ipykernel)",
   "language": "python",
   "name": "python3"
  },
  "language_info": {
   "codemirror_mode": {
    "name": "ipython",
    "version": 3
   },
   "file_extension": ".py",
   "mimetype": "text/x-python",
   "name": "python",
   "nbconvert_exporter": "python",
   "pygments_lexer": "ipython3",
   "version": "3.9.12"
  }
 },
 "nbformat": 4,
 "nbformat_minor": 5
}
